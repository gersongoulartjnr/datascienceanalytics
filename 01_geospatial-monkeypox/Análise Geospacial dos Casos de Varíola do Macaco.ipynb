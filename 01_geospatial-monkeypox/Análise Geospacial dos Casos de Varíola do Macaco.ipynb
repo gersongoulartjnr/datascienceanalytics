{
 "cells": [
  {
   "cell_type": "markdown",
   "id": "afbd4e4b",
   "metadata": {},
   "source": [
    "# Análise Geoespacial dos Casos de Varíola do Macaco\n",
    "\n",
    "\n",
    "\n",
    "O objetivo dessa análise é realizar uma análise geoespecial dos casos de Varíola do Macaco (MonkeyPox) no mundo.\n",
    "\n",
    "O dataset do número de casos por país foi disponibilizado via <a href=\"https://www.kaggle.com/datasets/programmerrdai/monkey-pox-next-covid?resource=download\">Kaggle</a> e representa os dados no período de 06/maio a 07/agosto.\n",
    "\n",
    "O arquivo ShapeFile que representa os dados geoespaciais dos países foi disponibilizado pelo <a href=\"https://hub.arcgis.com/datasets/esri::world-countries-generalized/explore?location=-0.688591%2C0.000000%2C2.03\">ArcGIS Hub</a>.\n",
    "\n",
    "Foram utilizados as bibliotecas <a href=\"https://pandas.pydata.org/docs/\">Pandas</a>, <a href=\"https://geopandas.org/en/stable/docs.html\">GeoPandas</a> e <a href=\"https://python-visualization.github.io/folium/\">Folium</a>.\n",
    "\n",
    "A biblioteca GeoPandas é utilizada para manipulação de dados geoespaciais enquanto o Folium é utilizado para a visualização dos dados geoespaciais."
   ]
  },
  {
   "cell_type": "markdown",
   "id": "b2a194ce",
   "metadata": {},
   "source": [
    "Importando as bibliotecas necessárias"
   ]
  },
  {
   "cell_type": "code",
   "execution_count": null,
   "id": "e51c420d",
   "metadata": {},
   "outputs": [],
   "source": [
    "import pandas as pd\n",
    "import geopandas as gpd\n",
    "import folium"
   ]
  },
  {
   "cell_type": "markdown",
   "id": "6c31403a",
   "metadata": {},
   "source": [
    "Lendo base de dados"
   ]
  },
  {
   "cell_type": "code",
   "execution_count": null,
   "id": "6fd6b0f3",
   "metadata": {},
   "outputs": [],
   "source": [
    "df_mp = pd.read_csv('monkeypox.csv')\n",
    "df_mp.head()"
   ]
  },
  {
   "cell_type": "markdown",
   "id": "21adec1a",
   "metadata": {},
   "source": [
    "Realizando o agrupamento do número de casos por país, visto que a base informa os novos casos por dia."
   ]
  },
  {
   "cell_type": "code",
   "execution_count": null,
   "id": "1a261f8a",
   "metadata": {},
   "outputs": [],
   "source": [
    "df = df_mp.groupby('location')['new_cases'].sum().to_frame().reset_index()\n",
    "df"
   ]
  },
  {
   "cell_type": "markdown",
   "id": "0474ac0c",
   "metadata": {},
   "source": [
    "Realizando o shapefile dos países com delimitação da geometria dos países e suas informações."
   ]
  },
  {
   "cell_type": "code",
   "execution_count": null,
   "id": "8c50a555",
   "metadata": {},
   "outputs": [],
   "source": [
    "geo_df = gpd.read_file('shapefile/World_Countries__Generalized_.shp')\n",
    "geo_df.plot()"
   ]
  },
  {
   "cell_type": "code",
   "execution_count": null,
   "id": "82438d2b",
   "metadata": {},
   "outputs": [],
   "source": [
    "geo_df.head()"
   ]
  },
  {
   "cell_type": "markdown",
   "id": "36aff69a",
   "metadata": {},
   "source": [
    "Verificando se temos algum país na base que não possui correspondência no Shapefile."
   ]
  },
  {
   "cell_type": "code",
   "execution_count": null,
   "id": "11860b48",
   "metadata": {},
   "outputs": [],
   "source": [
    "df_missing = df.merge(geo_df, how='left', right_on = 'COUNTRY', left_on = 'location')\n",
    "df_missing = df_missing[df_missing['geometry'].isnull()]\n",
    "df_missing['location']"
   ]
  },
  {
   "cell_type": "markdown",
   "id": "7ffc596e",
   "metadata": {},
   "source": [
    "Verificando os nomes dos países no Shapefile para realizar o ajuste."
   ]
  },
  {
   "cell_type": "code",
   "execution_count": null,
   "id": "daa6745f",
   "metadata": {},
   "outputs": [],
   "source": [
    "geo_df['COUNTRY'].unique()"
   ]
  },
  {
   "cell_type": "markdown",
   "id": "27a5ccce",
   "metadata": {},
   "source": [
    "- Para os países Republic of Congo, Russia e Czechia vamos renomeá-los para o nome que corresponde ao Shapefile;\n",
    "- Como Taiwan é uma província da China, vamos renomear os casos considerando como China para conseguirmos identificar visualmente o dado;\n",
    "- Vamos deletar os dados agregados (World)."
   ]
  },
  {
   "cell_type": "code",
   "execution_count": null,
   "id": "78cf2d46",
   "metadata": {},
   "outputs": [],
   "source": [
    "df.loc[df.location == 'Republic of Congo', 'location'] = 'Congo DRC'\n",
    "df.loc[df.location == 'Russia', 'location'] = 'Russian Federation'\n",
    "df.loc[df.location == 'Czechia', 'location'] = 'Czech Republic'\n",
    "df.loc[df.location == 'Taiwan', 'location'] = 'China'\n",
    "df.drop(df.loc[df.location == 'World'].index, inplace=True)\n",
    "df = df.groupby('location')['new_cases'].sum().to_frame().reset_index()"
   ]
  },
  {
   "cell_type": "markdown",
   "id": "dc816e34",
   "metadata": {},
   "source": [
    "Realizando o merge entre os dois dataframes para trazer a informação do número de casos para o dataframe que possui as geometrias."
   ]
  },
  {
   "cell_type": "code",
   "execution_count": null,
   "id": "81b3eb8b",
   "metadata": {},
   "outputs": [],
   "source": [
    "geo_df = geo_df.merge(df, left_on = 'COUNTRY', right_on = 'location')\n",
    "geo_df.head()"
   ]
  },
  {
   "cell_type": "markdown",
   "id": "89867346",
   "metadata": {},
   "source": [
    "Realizando o plot dos dados via Folium.\n",
    "\n",
    "No campo de geo_data informamos o dataframe com a geometria no formato json.\n",
    "\n",
    "No campo data e columns informamos o dataframe com os campos que serão utilizados para legenda.\n",
    "\n",
    "A própria biblioteca através do padrão de cores (nesse caso utilizado a YlOrRd) realiza uma escala de cores e cria uma legenda que fica no canto superior direito."
   ]
  },
  {
   "cell_type": "code",
   "execution_count": null,
   "id": "07d06f2b",
   "metadata": {
    "scrolled": true
   },
   "outputs": [],
   "source": [
    "m = folium.Map(min_zoom = 2)\n",
    "\n",
    "choropleth = folium.Choropleth(\n",
    "    geo_data=geo_df.to_json(),\n",
    "    data=geo_df,\n",
    "    columns=[\"location\", \"new_cases\"],\n",
    "    key_on=\"feature.properties.COUNTRY\",\n",
    "    fill_color=\"YlOrRd\",\n",
    "    nan_fill_opacity = 0,\n",
    "    legend_name=\"Número de Casos\"\n",
    ").add_to(m)\n",
    "\n",
    "legends = folium.features.GeoJsonTooltip(\n",
    "                        fields=['location', 'new_cases'],\n",
    "                        aliases=['País: ', 'Número de Casos: ']\n",
    "                )\n",
    "\n",
    "choropleth.geojson.add_child(legends)\n",
    "    \n",
    "folium.LayerControl().add_to(m)\n",
    "\n",
    "m"
   ]
  }
 ],
 "metadata": {
  "kernelspec": {
   "display_name": "Python 3 (ipykernel)",
   "language": "python",
   "name": "python3"
  },
  "language_info": {
   "codemirror_mode": {
    "name": "ipython",
    "version": 3
   },
   "file_extension": ".py",
   "mimetype": "text/x-python",
   "name": "python",
   "nbconvert_exporter": "python",
   "pygments_lexer": "ipython3",
   "version": "3.9.7"
  }
 },
 "nbformat": 4,
 "nbformat_minor": 5
}
